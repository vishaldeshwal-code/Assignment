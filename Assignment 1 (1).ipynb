{
 "cells": [
  {
   "cell_type": "markdown",
   "id": "f8a08cc6",
   "metadata": {},
   "source": [
    "# 1 In the below elements which of them are values or an expression? eg:- values can beinteger or string and expressions will be mathematical operators.\n",
    "(*) - Mathematical operator\n",
    "\n",
    "('hello') - String\n",
    "\n",
    "(-87.8) - Float\n",
    "\n",
    "(-) - Mathematical operator\n",
    "\n",
    "(/) - Mathematical operator\n",
    "\n",
    "(+) - Mathematical operator\n",
    "\n",
    "(6) - Integer "
   ]
  },
  {
   "cell_type": "markdown",
   "id": "d6c877fd",
   "metadata": {},
   "source": []
  },
  {
   "cell_type": "markdown",
   "id": "44b4cbd3",
   "metadata": {},
   "source": [
    "# 2 What is the difference between string and variable?\n",
    "A string is a combination of characters which we enclose in quotes it can be single quotes ('') or double quotes (\"\").\n",
    "A variable is a placeholder that stores a value by which you can access data which is stored in that memory location.\n",
    "\n"
   ]
  },
  {
   "cell_type": "markdown",
   "id": "39d05477",
   "metadata": {},
   "source": [
    "# 3. Describe three different data types.\n",
    "\n",
    "int - Int is a type of data type which repersent integer values. Integer are whole numbers, like 1,2,3,4, -4, -6 etc\n",
    "\n",
    "float - Float is a type of data type which represent floating- point numbers or you can say decimal numbers. For example - 2.3, 4.3, 3.0, etc\n",
    "\n",
    "str - str is a type of data type which represent String and it is a combination of characters which we enclose in quotes it can be single quotes ('') or double quotes (\"\"). Example - \"Hello\" \"my\" 'name' 'is' 'vishal'\n"
   ]
  },
  {
   "cell_type": "markdown",
   "id": "a87f16ef",
   "metadata": {},
   "source": [
    "# 4. What is an expression made up of? What do all expressions do?\n",
    "\n",
    "Expression is any sequence of varibale, values and operators and it reduce a result to single value. What expression do is, it evaluate the expression and after using print function we can print that evaluated value."
   ]
  },
  {
   "cell_type": "markdown",
   "id": "fa1b69b0",
   "metadata": {},
   "source": [
    "# 5. This assignment statements, like spam = 10. What is the difference between an expression and a statement?\n",
    "\n",
    "In this assignment we have assigned a value of 10 to a variable spam which we can say we have written a type of statement. However, under expression there will be a single evaluated value which will be evaluated by python interpreter.\n"
   ]
  },
  {
   "cell_type": "code",
   "execution_count": 5,
   "id": "d06a0b67",
   "metadata": {},
   "outputs": [
    {
     "name": "stdout",
     "output_type": "stream",
     "text": [
      "30\n"
     ]
    }
   ],
   "source": [
    "#example of expression\n",
    "\n",
    "spam = 10 #  statement\n",
    "spam1 = 20 # statement\n",
    "total = spam+spam1 # expression\n",
    "print (total)"
   ]
  },
  {
   "cell_type": "markdown",
   "id": "b8e13f9c",
   "metadata": {},
   "source": [
    "# 6. After running the following code, what does the variable bacon contain?\n"
   ]
  },
  {
   "cell_type": "code",
   "execution_count": 8,
   "id": "63236684",
   "metadata": {},
   "outputs": [
    {
     "name": "stdout",
     "output_type": "stream",
     "text": [
      "22\n"
     ]
    }
   ],
   "source": [
    "bacon = 22\n",
    "bacon + 1\n",
    "print (bacon)\n",
    "# after running this code bacon will contain only 22 but if  we declare  in second line bacon = bacon+1 then it will give 23 as value."
   ]
  },
  {
   "cell_type": "markdown",
   "id": "b8b8193d",
   "metadata": {},
   "source": [
    "# 7. What should the values of the following two terms be?"
   ]
  },
  {
   "cell_type": "code",
   "execution_count": 9,
   "id": "67d866c3",
   "metadata": {},
   "outputs": [
    {
     "data": {
      "text/plain": [
       "'spamspamspam'"
      ]
     },
     "execution_count": 9,
     "metadata": {},
     "output_type": "execute_result"
    }
   ],
   "source": [
    "'spam'+ 'spamspam'"
   ]
  },
  {
   "cell_type": "code",
   "execution_count": 10,
   "id": "9b08ccd6",
   "metadata": {},
   "outputs": [
    {
     "data": {
      "text/plain": [
       "'spamspamspam'"
      ]
     },
     "execution_count": 10,
     "metadata": {},
     "output_type": "execute_result"
    }
   ],
   "source": [
    "'spam'*3"
   ]
  },
  {
   "cell_type": "markdown",
   "id": "3b8aec42",
   "metadata": {},
   "source": [
    "Under this both it will evaluate string as 'spamspamspam'"
   ]
  },
  {
   "cell_type": "markdown",
   "id": "c9f8af4e",
   "metadata": {},
   "source": [
    "# 8.Why is eggs a valid variable name while 100 is invalid?\n",
    "\n",
    "As we have been taught that any varibale we will declare in python can not be start with a digit if we will start any valiable with a digit it will throw an error. Variable can start with an alphabet, or (_)\n",
    "For example : 20cars = 20 (it is not correct it will throw an error)\n",
    "cars = 20 (it is correct it will run)\n",
    "Hence eggs is a valid varibale however 100 is an invalid variable."
   ]
  },
  {
   "cell_type": "markdown",
   "id": "7d9e6458",
   "metadata": {},
   "source": [
    "# 9. What three functions can be used to get the integer, floating-point number, or string version of a value?\n",
    "\n",
    "int() for integer,\n",
    "\n",
    "str() for string ,\n",
    "\n",
    "float() for floating value."
   ]
  },
  {
   "cell_type": "markdown",
   "id": "88ea6eff",
   "metadata": {},
   "source": [
    "# 10. Why does this expression cause an error? How can you fix it?\n",
    "'I have eaten' +99+'burritos'"
   ]
  },
  {
   "cell_type": "code",
   "execution_count": 11,
   "id": "482910cb",
   "metadata": {},
   "outputs": [
    {
     "ename": "TypeError",
     "evalue": "can only concatenate str (not \"int\") to str",
     "output_type": "error",
     "traceback": [
      "\u001b[1;31m---------------------------------------------------------------------------\u001b[0m",
      "\u001b[1;31mTypeError\u001b[0m                                 Traceback (most recent call last)",
      "Cell \u001b[1;32mIn[11], line 1\u001b[0m\n\u001b[1;32m----> 1\u001b[0m \u001b[38;5;124;43m'\u001b[39;49m\u001b[38;5;124;43mI have eaten\u001b[39;49m\u001b[38;5;124;43m'\u001b[39;49m\u001b[43m \u001b[49m\u001b[38;5;241;43m+\u001b[39;49m\u001b[38;5;241;43m99\u001b[39;49m\u001b[38;5;241m+\u001b[39m\u001b[38;5;124m'\u001b[39m\u001b[38;5;124mburritos\u001b[39m\u001b[38;5;124m'\u001b[39m\n",
      "\u001b[1;31mTypeError\u001b[0m: can only concatenate str (not \"int\") to str"
     ]
    }
   ],
   "source": [
    "'I have eaten' +99+'burritos'"
   ]
  },
  {
   "cell_type": "code",
   "execution_count": 14,
   "id": "b2e050c1",
   "metadata": {},
   "outputs": [
    {
     "data": {
      "text/plain": [
       "'I have eaten 99 burritos'"
      ]
     },
     "execution_count": 14,
     "metadata": {},
     "output_type": "execute_result"
    }
   ],
   "source": [
    "# It is throwing and error due to a value of 99 as we cannot concatenate a integer with string using + operator the correct way of writing this can be.\n",
    "\n",
    "'I have eaten' +' 99 '+'burritos' # now it will not throw any error."
   ]
  },
  {
   "cell_type": "code",
   "execution_count": null,
   "id": "46c039ac",
   "metadata": {},
   "outputs": [],
   "source": []
  }
 ],
 "metadata": {
  "kernelspec": {
   "display_name": "Python 3 (ipykernel)",
   "language": "python",
   "name": "python3"
  },
  "language_info": {
   "codemirror_mode": {
    "name": "ipython",
    "version": 3
   },
   "file_extension": ".py",
   "mimetype": "text/x-python",
   "name": "python",
   "nbconvert_exporter": "python",
   "pygments_lexer": "ipython3",
   "version": "3.10.9"
  }
 },
 "nbformat": 4,
 "nbformat_minor": 5
}
