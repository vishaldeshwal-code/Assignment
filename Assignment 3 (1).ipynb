{
 "cells": [
  {
   "cell_type": "markdown",
   "id": "761af6a6",
   "metadata": {},
   "source": [
    "# Assignment 3"
   ]
  },
  {
   "cell_type": "markdown",
   "id": "04441a11",
   "metadata": {},
   "source": [
    "# 1. Why are functions advantageous to have in your programs?\n",
    "\n",
    "1.Functions allow to break down the code into smaller, manageable pieces. Each function can perform a specific task, making your code easier to understand and maintain.\n",
    "\n",
    "2.Functions helps to abstract away complex processes. Instead of understanding every detail of how a certain operation works, we can focus on using the function's interface and its inputs/outputs. \n",
    "\n",
    "3.With functions, we can give meaningful names to different parts of the code. This enhances the readability of the program by making it clear what each part does. \n",
    "\n",
    "4.Functions help organize your code logically. \n",
    "\n",
    "5.Smaller functions are generally easier to test and debug. We can focus on one function at a time, checking if it behaves as expected. \n",
    "\n",
    "6.Functions allow us to encapsulate certain functionality, providing a layer of separation between different parts of the program. This helps with code organization, security, and preventing unintended interactions between different parts of the code.\n"
   ]
  },
  {
   "cell_type": "markdown",
   "id": "d58f30ac",
   "metadata": {},
   "source": [
    "# 2. When does the code in a function run: when it's specified or when it's called?\n",
    "\n",
    "The code within a function runs when the function is called, not when it's specified "
   ]
  },
  {
   "cell_type": "markdown",
   "id": "c9b9ae14",
   "metadata": {},
   "source": [
    "# 3. What statement creates a function?\n",
    "We can create a function using the def statement. The def statement is used to define a new function and specify its name, parameters (if any), and the block of code that will be executed when the function is called."
   ]
  },
  {
   "cell_type": "markdown",
   "id": "c2bf0f04",
   "metadata": {},
   "source": [
    "# 4. What is the difference between a function and a function call?\n",
    "Function: A function is a block of organized, reusable code that performs a specific task. It consists of a function name, a set of parameters, and a block of code that gets executed when the function is called.\n",
    "Function Call: A function call is an instruction that tells the program to execute the code inside a specific function. When you want to use a function and make it perform its task, you call the function. "
   ]
  },
  {
   "cell_type": "markdown",
   "id": "23d3327f",
   "metadata": {},
   "source": [
    "# 5. How many global scopes are there in a Python program? How many local scopes?\n",
    "There is typically one global scope and multiple local scopes:\n",
    "\n",
    "Global Scope: The global scope is the outermost scope of a Python program. It encompasses the entire program and is not within any function or code block. Variables defined in the global scope are accessible throughout the entire program, including within functions. Global variables can be accessed and modified from any part of the program.\n",
    "\n",
    "Local Scopes: Local scopes are created within functions or code blocks. Each time you define a function, a new local scope is created for that function. Variables defined within a local scope are only accessible within that specific function or code block. They are known as local variables. Once the function execution is completed, the local variables are no longer accessible.\n"
   ]
  },
  {
   "cell_type": "markdown",
   "id": "7d8e716f",
   "metadata": {},
   "source": [
    "# 6.What happens to variables in a local scope when the function call returns?\n",
    "\n",
    "When a function call returns in Python, the variables that were defined within the local scope of that function cease to exist. "
   ]
  },
  {
   "cell_type": "markdown",
   "id": "e1315cde",
   "metadata": {},
   "source": [
    "# 7.What is the concept of a return value? Is it possible to have a return value in an expression?\n",
    "\n",
    "The concept of a return value refers to the value that a function can \"return\" to the caller after it has completed its execution. When a function is called, it may perform some computation or operation, and it can optionally provide a value back to the caller using the return statement.\n",
    "\n",
    "Yes, it is possible to have a return value in an expression. This allows you to use the returned value directly within an expression without explicitly assigning it to a variable first."
   ]
  },
  {
   "cell_type": "markdown",
   "id": "62043b0d",
   "metadata": {},
   "source": [
    "# 8. If a function does not have a return statement, what is the return value of a call to that function?\n",
    "\n",
    "If a function does not have a return statement, the return value of a call to that function is None. "
   ]
  },
  {
   "cell_type": "markdown",
   "id": "43688c48",
   "metadata": {},
   "source": [
    "# 9 How do you make a function variable refer to the global variable?\n",
    "\n",
    "If we want to access a global variable from within a function and potentially modify its value, we need to use the global keyword. The global keyword informs Python that the variable we're using inside the function refers to the global variable with the same name, rather than creating a new local variable within the function.\n"
   ]
  },
  {
   "cell_type": "markdown",
   "id": "226f368f",
   "metadata": {},
   "source": [
    "# 10. What is the data type of None?\n",
    "the data type of None is NoneType.  It is a special data type that represents the absence of a value or a null value. None is often used to indicate that a variable or expression does not hold a valid value."
   ]
  },
  {
   "cell_type": "markdown",
   "id": "3aa75365",
   "metadata": {},
   "source": [
    "# 11 What does the sentence import areallyourpetsnamederic do?\n",
    "\n",
    "It will not import anything as there is not any module named as \"areallyourpetsnamederic\"\n"
   ]
  },
  {
   "cell_type": "code",
   "execution_count": 3,
   "id": "7c447165",
   "metadata": {},
   "outputs": [
    {
     "ename": "ModuleNotFoundError",
     "evalue": "No module named 'areallyourpetsnamederic'",
     "output_type": "error",
     "traceback": [
      "\u001b[1;31m---------------------------------------------------------------------------\u001b[0m",
      "\u001b[1;31mModuleNotFoundError\u001b[0m                       Traceback (most recent call last)",
      "Cell \u001b[1;32mIn[3], line 1\u001b[0m\n\u001b[1;32m----> 1\u001b[0m \u001b[38;5;28;01mimport\u001b[39;00m \u001b[38;5;21;01mareallyourpetsnamederic\u001b[39;00m\n",
      "\u001b[1;31mModuleNotFoundError\u001b[0m: No module named 'areallyourpetsnamederic'"
     ]
    }
   ],
   "source": [
    "import areallyourpetsnamederic"
   ]
  },
  {
   "cell_type": "markdown",
   "id": "b1ca5ce2",
   "metadata": {},
   "source": [
    "# 12 If you had a bacon() feature in a spam module, what would you call it after importing spam?\n",
    "After importing the spam module, we will call the bacon() feature using the syntax spam.bacon()"
   ]
  },
  {
   "cell_type": "code",
   "execution_count": null,
   "id": "e0b1013b",
   "metadata": {},
   "outputs": [],
   "source": [
    "import spam\n",
    "spam.bacon()"
   ]
  },
  {
   "cell_type": "markdown",
   "id": "46a2caaa",
   "metadata": {},
   "source": [
    "# 13. What can you do to save a programme from crashing if it encounters an error?\n",
    "\n",
    "To prevent a program from crashing when encountering an error, we can use error handling techniques to catch and handle exceptions. Exceptions are errors that occur during the execution of our program. By handling exceptions appropriately, we can ensure that our program continues running and gracefully handles unexpected situations.\n"
   ]
  },
  {
   "cell_type": "markdown",
   "id": "f36d8b74",
   "metadata": {},
   "source": [
    "# 14. What is the purpose of the try clause? What is the purpose of the except clause?\n",
    "The try and except clauses are used in Python for error handling, specifically for dealing with exceptions that may occur during the execution of a program. They allow you to gracefully handle exceptions and prevent the program from crashing when unexpected errors occur.\n",
    "\n",
    "The try clause encloses the code that you suspect might raise an exception. It defines a block of code where you want to monitor for exceptions. The purpose of the try clause is to attempt the execution of the code within it. If an exception occurs during this execution, the program does not immediately crash; instead, it transfers control to the corresponding except block.\n",
    "\n",
    "The except clause is used to catch and handle specific exceptions that are raised within the associated try block. When an exception occurs in the try block, the program searches for a matching except block. If a matching exception type is found, the code within the corresponding except block is executed.\n"
   ]
  },
  {
   "cell_type": "code",
   "execution_count": null,
   "id": "cf14a74d",
   "metadata": {},
   "outputs": [],
   "source": []
  }
 ],
 "metadata": {
  "kernelspec": {
   "display_name": "Python 3 (ipykernel)",
   "language": "python",
   "name": "python3"
  },
  "language_info": {
   "codemirror_mode": {
    "name": "ipython",
    "version": 3
   },
   "file_extension": ".py",
   "mimetype": "text/x-python",
   "name": "python",
   "nbconvert_exporter": "python",
   "pygments_lexer": "ipython3",
   "version": "3.10.9"
  }
 },
 "nbformat": 4,
 "nbformat_minor": 5
}
