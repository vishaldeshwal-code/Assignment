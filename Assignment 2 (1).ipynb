{
 "cells": [
  {
   "cell_type": "markdown",
   "id": "e70a61e6",
   "metadata": {},
   "source": [
    "# 1.What are the two values of the Boolean data type? How do you write them?"
   ]
  },
  {
   "cell_type": "markdown",
   "id": "4ed2e71b",
   "metadata": {},
   "source": [
    "The two types of bollean data types are \"True\" and \"False\" and they represent if the given statement is true or false.\n",
    "Both will be written in the form they are true = \"True\" and false =\"False\"\n",
    "    "
   ]
  },
  {
   "cell_type": "markdown",
   "id": "11b433e9",
   "metadata": {},
   "source": [
    "# 2. What are the three different types of Boolean operators?\n",
    "\n",
    "The three typer of boolean operator are \"OR(\", \"AND\", \"NOT\"\n"
   ]
  },
  {
   "cell_type": "markdown",
   "id": "0fcc571a",
   "metadata": {},
   "source": [
    "# 3. Make a list of each Boolean operator&#39;s truth tables (i.e. every possible combination of Boolean values for the operator and what it evaluate )."
   ]
  },
  {
   "cell_type": "markdown",
   "id": "f1bce5d0",
   "metadata": {},
   "source": [
    "AND Operator :\n",
    "Input A\tInput B\tOutput\n",
    "FALSE\tFALSE\tFALSE\n",
    "FALSE\tTRUE\tFALSE\n",
    "TRUE\tFALSE\tFALSE\n",
    "TRUE\tTRUE\tTRUE\n",
    "\n",
    "\n",
    "OR Operator :\n",
    "\n",
    "Input A\tInput B\tOutput\n",
    "FALSE\tFALSE\tFALSE\n",
    "FALSE\tTRUE\tTRUE\n",
    "TRUE\tFALSE\tTRUE\n",
    "TRUE\tTRUE\tTRUE\n",
    "\n",
    "\n",
    "NOT Operator:\n",
    "\n",
    "Input\tOutput\n",
    "FALSE\tTRUE\n",
    "TRUE\tFALSE\n"
   ]
  },
  {
   "cell_type": "markdown",
   "id": "bea0a28a",
   "metadata": {},
   "source": [
    "# 4. What are the values of the following expressions?\n",
    "(5 &gt; 4) and (3 == 5)\n",
    "not (5 &gt; 4)\n",
    "(5 &gt; 4) or (3 == 5)\n",
    "not ((5 &gt; 4) or (3 == 5))\n",
    "(True and True) and (True == False)\n",
    "(not False) or (not True)"
   ]
  },
  {
   "cell_type": "code",
   "execution_count": 4,
   "id": "144ff8e0",
   "metadata": {},
   "outputs": [
    {
     "data": {
      "text/plain": [
       "False"
      ]
     },
     "execution_count": 4,
     "metadata": {},
     "output_type": "execute_result"
    }
   ],
   "source": [
    "a=3\n",
    "b=4\n",
    "c=5\n",
    "\n",
    "(c>b) and (a==c)\n"
   ]
  },
  {
   "cell_type": "code",
   "execution_count": 6,
   "id": "477bb26d",
   "metadata": {},
   "outputs": [
    {
     "name": "stdout",
     "output_type": "stream",
     "text": [
      "False\n"
     ]
    }
   ],
   "source": [
    "if not (c>b):\n",
    "    print(True)\n",
    "else:\n",
    "    print(False)"
   ]
  },
  {
   "cell_type": "code",
   "execution_count": 7,
   "id": "2ccb271b",
   "metadata": {},
   "outputs": [
    {
     "name": "stdout",
     "output_type": "stream",
     "text": [
      "True\n"
     ]
    }
   ],
   "source": [
    "if (c>b) or (a == c):\n",
    "    print(True)\n",
    "else:\n",
    "    print(False)"
   ]
  },
  {
   "cell_type": "code",
   "execution_count": 8,
   "id": "03e428a0",
   "metadata": {},
   "outputs": [
    {
     "name": "stdout",
     "output_type": "stream",
     "text": [
      "False\n"
     ]
    }
   ],
   "source": [
    "if not  (c>b) or (a == c):\n",
    "    print(True)\n",
    "else:\n",
    "    print(False)"
   ]
  },
  {
   "cell_type": "code",
   "execution_count": 9,
   "id": "57febb83",
   "metadata": {},
   "outputs": [
    {
     "name": "stdout",
     "output_type": "stream",
     "text": [
      "False\n"
     ]
    }
   ],
   "source": [
    "if (True and True) and (True == False):\n",
    "    print (True)\n",
    "else:\n",
    "    print(False)"
   ]
  },
  {
   "cell_type": "code",
   "execution_count": 10,
   "id": "30b19bcd",
   "metadata": {},
   "outputs": [
    {
     "name": "stdout",
     "output_type": "stream",
     "text": [
      "True\n"
     ]
    }
   ],
   "source": [
    "if (not False) or (not True):\n",
    "    print (True)\n",
    "else:\n",
    "    print(False)"
   ]
  },
  {
   "cell_type": "code",
   "execution_count": null,
   "id": "019ea0cd",
   "metadata": {},
   "outputs": [],
   "source": []
  },
  {
   "cell_type": "markdown",
   "id": "18b49144",
   "metadata": {},
   "source": [
    "# 5.What are the six comparison operators?"
   ]
  },
  {
   "cell_type": "markdown",
   "id": "ca8e33f7",
   "metadata": {},
   "source": [
    "Equal to (==): This operator checks if the given two values are equal and returns true if they are, and false otherwise. For example, 8 == 8 evaluates to true.\n",
    "\n",
    "Not equal to (!=): This operator checks if two values are not equal and returns true if they are not, and false otherwise. For example, 7 != 3 evaluates to true.\n",
    "\n",
    "Greater than (>): This operator checks if the left operand is greater than the right operand and returns true if it is, and false otherwise. For example, 7 > 3 evaluates to true.\n",
    "\n",
    "Less than (<): This operator checks if the left operand is less than the right operand and returns true if it is, and false otherwise. For example, 7 < 3 evaluates to false.\n",
    "\n",
    "Greater than or equal to (>=): This operator checks if the left operand is greater than or equal to the right operand and returns true if it is, and false otherwise. For example, 5 >= 5 evaluates to true.\n",
    "\n",
    "Less than or equal to (<=): This operator checks if the left operand is less than or equal to the right operand and returns true if it is, and false otherwise. For example, 5 <= 3 evaluates to false."
   ]
  },
  {
   "cell_type": "markdown",
   "id": "9838df3e",
   "metadata": {},
   "source": [
    "# 6. How do you tell the difference between the equal to and assignment operators?Describe a condition and when you would use one."
   ]
  },
  {
   "cell_type": "markdown",
   "id": "2b79db77",
   "metadata": {},
   "source": [
    "Equal to (==) operator is used to compare the equality of two values, while the assignment (=) operator is used to assign a value to a variable.\n"
   ]
  },
  {
   "cell_type": "code",
   "execution_count": 11,
   "id": "ccfa66b2",
   "metadata": {},
   "outputs": [
    {
     "name": "stdout",
     "output_type": "stream",
     "text": [
      "NOT EQUAL\n"
     ]
    }
   ],
   "source": [
    "#Example\n",
    "a=2   #assigning the value\n",
    "b=8\n",
    "if a==b:# comparing the equality\n",
    "    print(\"EQUAL\")\n",
    "else:\n",
    "    print(\"NOT EQUAL\")"
   ]
  },
  {
   "cell_type": "markdown",
   "id": "d0fea855",
   "metadata": {},
   "source": [
    "# 7. Identify the three blocks in this code:\n",
    "spam = 0\n",
    "if spam == 10:\n",
    "print(&#39;eggs&#39;)\n",
    "if spam &gt; 5:\n",
    "print(&#39;bacon&#39;)\n",
    "else:\n",
    "print(&#39;ham&#39;)\n",
    "print(&#39;spam&#39;)\n",
    "print(&#39;spam&#39;)"
   ]
  },
  {
   "cell_type": "markdown",
   "id": "5da58094",
   "metadata": {},
   "source": [
    "Answer: Three blocks are \n",
    "    #1 if spam == 10:\n",
    "    #2 if spam &gt; 5:\n",
    "    #3 else:"
   ]
  },
  {
   "cell_type": "markdown",
   "id": "d7fddfe5",
   "metadata": {},
   "source": [
    "# 8 Write code that prints Hello if 1 is stored in spam, prints Howdy if 2 is stored in spam, and printsGreetings! if anything else is stored in spam."
   ]
  },
  {
   "cell_type": "code",
   "execution_count": 13,
   "id": "4de2ebe4",
   "metadata": {},
   "outputs": [
    {
     "name": "stdout",
     "output_type": "stream",
     "text": [
      "Please enter value of a: 1\n",
      "Hello\n"
     ]
    }
   ],
   "source": [
    "a = float(input(\"Please enter value of a: \"))\n",
    "if a==1:\n",
    "    print (\"Hello\")\n",
    "elif a==2:\n",
    "    print(\"Howdy\")\n",
    "else:\n",
    "    print(\"Greetings!\")"
   ]
  },
  {
   "cell_type": "markdown",
   "id": "2cbf3e06",
   "metadata": {},
   "source": [
    "# 9.If your programme is stuck in an endless loop, what keys you’ll press?\n",
    "If the programme is stuck in an endless loop then we have to press ctrl+c to interupt the loop."
   ]
  },
  {
   "cell_type": "markdown",
   "id": "569abbc6",
   "metadata": {},
   "source": [
    "# 10. How can you tell the difference between break and continue?\n",
    "Break statement is use to terminate the loop and transfers control to the next statement after the loop. It is often used to exit a loop based on a certain condition.\n",
    "Continue statement is use when encountered inside a loop, the continue statement skips the rest of the current iteration and moves to the next iteration of the loop. It allows you to skip certain parts of the loop's code and continue with the next iteration."
   ]
  },
  {
   "cell_type": "markdown",
   "id": "4590389b",
   "metadata": {},
   "source": [
    "# 11 In a for loop, what is the difference between range(10), range(0, 10), and range(0, 10, 1)?"
   ]
  },
  {
   "cell_type": "markdown",
   "id": "3343589d",
   "metadata": {},
   "source": [
    "range(10)- this will create a sequence of number starting from 0 to 9 as 10 will be excluded (upperbound) andi0 will be included lower bound\n"
   ]
  },
  {
   "cell_type": "code",
   "execution_count": 14,
   "id": "937d5bec",
   "metadata": {},
   "outputs": [
    {
     "name": "stdout",
     "output_type": "stream",
     "text": [
      "0\n",
      "1\n",
      "2\n",
      "3\n",
      "4\n",
      "5\n",
      "6\n",
      "7\n",
      "8\n",
      "9\n"
     ]
    }
   ],
   "source": [
    "for i in range(10):\n",
    "    print(i)"
   ]
  },
  {
   "cell_type": "markdown",
   "id": "e3146135",
   "metadata": {},
   "source": [
    "range (0,10) - this will also create a sequence of number starting from 0 to 9 as 10 will be excluded (upperbound) and 0 will be included (lowerbound)\n"
   ]
  },
  {
   "cell_type": "code",
   "execution_count": 15,
   "id": "0ba87075",
   "metadata": {},
   "outputs": [
    {
     "name": "stdout",
     "output_type": "stream",
     "text": [
      "0\n",
      "1\n",
      "2\n",
      "3\n",
      "4\n",
      "5\n",
      "6\n",
      "7\n",
      "8\n",
      "9\n"
     ]
    }
   ],
   "source": [
    "for i in range(0,10):\n",
    "    print(i)"
   ]
  },
  {
   "cell_type": "markdown",
   "id": "2da079f0",
   "metadata": {},
   "source": [
    "range (0,10,1) - This is similar to range(0, 10), but it includes a third argument, which represents the step value. In this case, the step value is 1, which means it will generate numbers by incrementing 1 at each iteration. So, it will produce the same sequence of numbers as the previous examples, i.e., 0, 1, 2, 3, 4, 5, 6, 7, 8, and 9. "
   ]
  },
  {
   "cell_type": "code",
   "execution_count": 16,
   "id": "624dfbce",
   "metadata": {},
   "outputs": [
    {
     "name": "stdout",
     "output_type": "stream",
     "text": [
      "0\n",
      "1\n",
      "2\n",
      "3\n",
      "4\n",
      "5\n",
      "6\n",
      "7\n",
      "8\n",
      "9\n"
     ]
    }
   ],
   "source": [
    "for i in range(0,10,1):\n",
    "    print(i)"
   ]
  },
  {
   "cell_type": "markdown",
   "id": "ddce0f65",
   "metadata": {},
   "source": [
    "# 12 Write a short program that prints the numbers 1 to 10 using a for loop. Then write an equivalent program that prints the numbers 1 to 10 using a while loop."
   ]
  },
  {
   "cell_type": "code",
   "execution_count": 17,
   "id": "6400e41c",
   "metadata": {},
   "outputs": [
    {
     "name": "stdout",
     "output_type": "stream",
     "text": [
      "1\n",
      "2\n",
      "3\n",
      "4\n",
      "5\n",
      "6\n",
      "7\n",
      "8\n",
      "9\n",
      "10\n"
     ]
    }
   ],
   "source": [
    "for i in range (1,11):\n",
    "    print(i)\n"
   ]
  },
  {
   "cell_type": "code",
   "execution_count": 19,
   "id": "872743f4",
   "metadata": {},
   "outputs": [
    {
     "name": "stdout",
     "output_type": "stream",
     "text": [
      "1\n",
      "2\n",
      "3\n",
      "4\n",
      "5\n",
      "6\n",
      "7\n",
      "8\n",
      "9\n",
      "10\n"
     ]
    }
   ],
   "source": [
    "i = 1\n",
    "\n",
    "while i <= 10:\n",
    "    print(i)\n",
    "    i += 1\n"
   ]
  },
  {
   "cell_type": "markdown",
   "id": "62cb5d36",
   "metadata": {},
   "source": [
    "# 13 If you had a function named bacon() inside a module named spam, how would you call it after importing spam?"
   ]
  },
  {
   "cell_type": "code",
   "execution_count": 20,
   "id": "ccb53f45",
   "metadata": {},
   "outputs": [
    {
     "ename": "ModuleNotFoundError",
     "evalue": "No module named 'spam'",
     "output_type": "error",
     "traceback": [
      "\u001b[1;31m---------------------------------------------------------------------------\u001b[0m",
      "\u001b[1;31mModuleNotFoundError\u001b[0m                       Traceback (most recent call last)",
      "Cell \u001b[1;32mIn[20], line 1\u001b[0m\n\u001b[1;32m----> 1\u001b[0m \u001b[38;5;28;01mimport\u001b[39;00m \u001b[38;5;21;01mspam\u001b[39;00m\n\u001b[0;32m      2\u001b[0m spam\u001b[38;5;241m.\u001b[39mbacon()\n",
      "\u001b[1;31mModuleNotFoundError\u001b[0m: No module named 'spam'"
     ]
    }
   ],
   "source": [
    "import spam\n",
    "spam.bacon()"
   ]
  },
  {
   "cell_type": "code",
   "execution_count": null,
   "id": "521e0045",
   "metadata": {},
   "outputs": [],
   "source": []
  }
 ],
 "metadata": {
  "kernelspec": {
   "display_name": "Python 3 (ipykernel)",
   "language": "python",
   "name": "python3"
  },
  "language_info": {
   "codemirror_mode": {
    "name": "ipython",
    "version": 3
   },
   "file_extension": ".py",
   "mimetype": "text/x-python",
   "name": "python",
   "nbconvert_exporter": "python",
   "pygments_lexer": "ipython3",
   "version": "3.10.9"
  }
 },
 "nbformat": 4,
 "nbformat_minor": 5
}
